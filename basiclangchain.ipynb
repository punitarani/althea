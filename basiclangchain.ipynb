{
 "cells": [
  {
   "cell_type": "markdown",
   "metadata": {},
   "source": [
    "## Install/Import all env"
   ]
  },
  {
   "cell_type": "code",
   "execution_count": 1,
   "metadata": {},
   "outputs": [],
   "source": [
    "## Import ENV\n",
    "import os\n",
    "import time\n",
    "from getpass import getpass\n",
    "import kdbai_client as kdbai\n",
    "import pandas as pd\n",
    "import requests\n",
    "from langchain.chains import RetrievalQA\n",
    "from langchain.document_loaders import PyPDFLoader\n",
    "from langchain_community.vectorstores import KDBAI\n",
    "from langchain_openai import ChatOpenAI, OpenAIEmbeddings"
   ]
  },
  {
   "cell_type": "code",
   "execution_count": 2,
   "metadata": {},
   "outputs": [],
   "source": [
    "def read_api_key(file_path):\n",
    "    with open(file_path, 'r') as file:\n",
    "        return file.read().strip()\n",
    "KDBAI_ENDPOINT = 'https://cloud.kdb.ai/instance/qpglwft3zm'\n",
    "KDBAI_API_KEY = read_api_key('../API_Key/KDBAI_API_KEY.txt')    \n",
    "\n",
    "OPENAI_API_KEY = read_api_key('../API_Key/OPENAI_API_KEY.txt')\n",
    "os.environ[\"OPENAI_API_KEY\"] = OPENAI_API_KEY\n",
    "os.environ[\"KDBAI_API_KEY\"] = KDBAI_API_KEY"
   ]
  },
  {
   "cell_type": "code",
   "execution_count": 3,
   "metadata": {},
   "outputs": [],
   "source": [
    "TEMP = 0.0\n",
    "K = 3"
   ]
  },
  {
   "cell_type": "code",
   "execution_count": 15,
   "metadata": {},
   "outputs": [
    {
     "name": "stdout",
     "output_type": "stream",
     "text": [
      "Create a KDB.AI session...\n",
      "Create table \"documents\"...\n"
     ]
    }
   ],
   "source": [
    "print(\"Create a KDB.AI session...\")\n",
    "session = kdbai.Session(endpoint=KDBAI_ENDPOINT, api_key=KDBAI_API_KEY)\n",
    "print('Create table \"documents\"...')\n",
    "schema = {\n",
    "    \"columns\": [\n",
    "        {\"name\": \"id\", \"pytype\": \"str\"},\n",
    "        {\"name\": \"text\", \"pytype\": \"bytes\"},\n",
    "        {\n",
    "            \"name\": \"embeddings\",\n",
    "            \"pytype\": \"float32\",\n",
    "            \"vectorIndex\": {\"dims\": 1536, \"metric\": \"L2\", \"type\": \"hnsw\"},\n",
    "        },\n",
    "        {\"name\": \"tag\", \"pytype\": \"str\"},\n",
    "        {\"name\": \"title\", \"pytype\": \"bytes\"},\n",
    "    ]\n",
    "}\n",
    "if 'documents' in session.list():\n",
    "    session.table(\"documents\").drop()\n",
    "table = session.create_table(\"documents\", schema)"
   ]
  },
  {
   "cell_type": "markdown",
   "metadata": {},
   "source": [
    "# Load data 1:(A law paper)"
   ]
  },
  {
   "cell_type": "code",
   "execution_count": 17,
   "metadata": {},
   "outputs": [
    {
     "name": "stdout",
     "output_type": "stream",
     "text": [
      "Read a PDF...\n",
      "CPU times: user 118 ms, sys: 16.8 ms, total: 135 ms\n",
      "Wall time: 155 ms\n"
     ]
    },
    {
     "data": {
      "text/plain": [
       "3"
      ]
     },
     "execution_count": 17,
     "metadata": {},
     "output_type": "execute_result"
    }
   ],
   "source": [
    "%%time\n",
    "PDF = \"Déclaration_des_droits_de_l_homme_et_du_citoyen.pdf\"\n",
    "\n",
    "print(\"Read a PDF...\")\n",
    "loader = PyPDFLoader(PDF)\n",
    "pages = loader.load_and_split()\n",
    "len(pages)"
   ]
  },
  {
   "cell_type": "code",
   "execution_count": 18,
   "metadata": {},
   "outputs": [
    {
     "name": "stdout",
     "output_type": "stream",
     "text": [
      "Create a Vector Database from PDF text...\n",
      "CPU times: user 241 ms, sys: 44.5 ms, total: 286 ms\n",
      "Wall time: 2.24 s\n"
     ]
    },
    {
     "data": {
      "text/plain": [
       "['aec3c93b-0ea1-476f-a20c-280e65f8c669',\n",
       " '8684fb3f-7510-4ca8-aef2-97c1e947e262',\n",
       " '43f0ab40-5834-44c3-8343-8448ee66aba8']"
      ]
     },
     "execution_count": 18,
     "metadata": {},
     "output_type": "execute_result"
    }
   ],
   "source": [
    "%%time\n",
    "print(\"Create a Vector Database from PDF text...\")\n",
    "embeddings = OpenAIEmbeddings(model=\"text-embedding-ada-002\")\n",
    "texts = [p.page_content for p in pages]\n",
    "metadata = pd.DataFrame(index=list(range(len(texts))))\n",
    "metadata[\"tag\"] = \"law\"\n",
    "metadata[\"title\"] = \"Déclaration des Droits de l'Homme et du Citoyen de 1789\".encode(\n",
    "    \"utf-8\"\n",
    ")\n",
    "vectordb = KDBAI(table, embeddings)\n",
    "vectordb.add_texts(texts=texts, metadatas=metadata)"
   ]
  },
  {
   "cell_type": "markdown",
   "metadata": {},
   "source": [
    "# Load data 2: (A biology paper)"
   ]
  },
  {
   "cell_type": "code",
   "execution_count": 19,
   "metadata": {},
   "outputs": [
    {
     "name": "stdout",
     "output_type": "stream",
     "text": [
      "Read a PDF...\n",
      "CPU times: user 100 ms, sys: 4.26 ms, total: 105 ms\n",
      "Wall time: 105 ms\n"
     ]
    },
    {
     "data": {
      "text/plain": [
       "8"
      ]
     },
     "execution_count": 19,
     "metadata": {},
     "output_type": "execute_result"
    }
   ],
   "source": [
    "%%time\n",
    "print(\"Read a PDF...\")\n",
    "loader = PyPDFLoader(\"02.pdf\")\n",
    "pages = loader.load_and_split()\n",
    "len(pages)"
   ]
  },
  {
   "cell_type": "code",
   "execution_count": 20,
   "metadata": {},
   "outputs": [
    {
     "name": "stdout",
     "output_type": "stream",
     "text": [
      "Create a Vector Database from PDF text...\n",
      "CPU times: user 68.4 ms, sys: 5.99 ms, total: 74.4 ms\n",
      "Wall time: 2.34 s\n"
     ]
    },
    {
     "data": {
      "text/plain": [
       "['19e3d0a7-a66a-4c6f-ad52-295cf60f5d12',\n",
       " '20fdd073-db6b-474a-a504-c83c6e0a0e00',\n",
       " '1be85d3d-b959-4df1-b885-e450a1951be7',\n",
       " '192b51e0-3880-4536-96b2-d6b03d18c317',\n",
       " 'f3f92e14-a980-44a9-9dd7-c15b02910c5f',\n",
       " 'f9eda253-57ac-48cb-969b-d9c4a78b8c5d',\n",
       " '727b3ea3-4603-4abe-af08-f48f7c6b2a74',\n",
       " '03c28cf8-02ba-455f-8275-8ec02c5f7197']"
      ]
     },
     "execution_count": 20,
     "metadata": {},
     "output_type": "execute_result"
    }
   ],
   "source": [
    "%%time\n",
    "print(\"Create a Vector Database from PDF text...\")\n",
    "embeddings = OpenAIEmbeddings(model=\"text-embedding-ada-002\")\n",
    "texts = [p.page_content for p in pages]\n",
    "metadata = pd.DataFrame(index=list(range(len(texts))))\n",
    "metadata[\"tag\"] = \"biology\"\n",
    "metadata[\"title\"] = \"Editorial: Charles Darwin, Jean-Baptiste Lamarck, and 21st centuryarguments on the fundamentals of biology\".encode(\n",
    "    \"utf-8\"\n",
    ")\n",
    "vectordb = KDBAI(table, embeddings)\n",
    "vectordb.add_texts(texts=texts, metadatas=metadata)"
   ]
  },
  {
   "cell_type": "markdown",
   "metadata": {},
   "source": [
    "## Design langchen(no memory(history) is used for now.)"
   ]
  },
  {
   "cell_type": "code",
   "execution_count": 22,
   "metadata": {},
   "outputs": [
    {
     "name": "stdout",
     "output_type": "stream",
     "text": [
      "Create LangChain Pipeline...\n",
      "CPU times: user 13.2 ms, sys: 3.46 ms, total: 16.6 ms\n",
      "Wall time: 18.2 ms\n"
     ]
    }
   ],
   "source": [
    "%%time\n",
    "print(\"Create LangChain Pipeline...\")\n",
    "qabot = RetrievalQA.from_chain_type(\n",
    "    chain_type=\"stuff\",\n",
    "    llm=ChatOpenAI(model=\"gpt-3.5-turbo-16k\", temperature=TEMP),\n",
    "    retriever=vectordb.as_retriever(search_kwargs=dict(k=K)),\n",
    "    return_source_documents=True,\n",
    ")"
   ]
  },
  {
   "cell_type": "code",
   "execution_count": 23,
   "metadata": {},
   "outputs": [
    {
     "name": "stdout",
     "output_type": "stream",
     "text": [
      "\n",
      "\n",
      "Is What is the weather today?? relevant to any of the documents? 1 if yes else 0.\n",
      "\n",
      "0\n",
      "CPU times: user 26.4 ms, sys: 6.64 ms, total: 33 ms\n",
      "Wall time: 1.78 s\n"
     ]
    }
   ],
   "source": [
    "%%time\n",
    "Input_Q = \"What is the weather today?\"\n",
    "Q = f\"Is {Input_Q} relevant to any of the documents? 1 if yes else 0.\"\n",
    "print(f\"\\n\\n{Q}\\n\")\n",
    "print(qabot.invoke(dict(query=Q))[\"result\"])"
   ]
  },
  {
   "cell_type": "code",
   "execution_count": 24,
   "metadata": {},
   "outputs": [
    {
     "name": "stdout",
     "output_type": "stream",
     "text": [
      "\n",
      "\n",
      "Summarize the document in English:\n",
      "\n",
      "The document is the Declaration of the Rights of Man and of the Citizen of 1789. It was written by the representatives of the French people and aims to declare the natural, inalienable, and sacred rights of every individual. These rights include freedom, property, security, and resistance to oppression. The document emphasizes the importance of equality and the principle that sovereignty resides in the nation. It also highlights the role of law in protecting individual rights and ensuring the common good. The document asserts the right to freedom of thought, expression, and religion, as well as the right to a fair trial and the presumption of innocence. It emphasizes the importance of public accountability and the need for a just and equitable distribution of resources. The document concludes by stating that any society that does not guarantee the protection of rights and the separation of powers does not have a constitution.\n",
      "CPU times: user 19 ms, sys: 3.73 ms, total: 22.7 ms\n",
      "Wall time: 4.64 s\n"
     ]
    }
   ],
   "source": [
    "%%time\n",
    "Q = \"Summarize the document in English:\"\n",
    "print(f\"\\n\\n{Q}\\n\")\n",
    "print(qabot.invoke(dict(query=Q))[\"result\"])"
   ]
  },
  {
   "cell_type": "code",
   "execution_count": 25,
   "metadata": {},
   "outputs": [
    {
     "name": "stdout",
     "output_type": "stream",
     "text": [
      "\n",
      "\n",
      "What is the most relevant document in your database to the question:the fundamentals of biology in the 21st century? give me the title\n",
      "\n",
      "The most relevant document in the database is titled \"Editorial: Charles Darwin, Jean-Baptiste Lamarck, and 21st century arguments on the fundamentals of biology.\"\n",
      "CPU times: user 19 ms, sys: 3.55 ms, total: 22.5 ms\n",
      "Wall time: 2.09 s\n"
     ]
    }
   ],
   "source": [
    "%%time\n",
    "Q = \"What is the most relevant document in your database to the question:the fundamentals of biology in the 21st century? give me the title\"\n",
    "print(f\"\\n\\n{Q}\\n\")\n",
    "print(qabot.invoke(dict(query=Q))[\"result\"])"
   ]
  },
  {
   "cell_type": "code",
   "execution_count": 26,
   "metadata": {},
   "outputs": [
    {
     "name": "stdout",
     "output_type": "stream",
     "text": [
      "\n",
      "\n",
      "What is the most relevant document in your database to the question:the Rights of Man and of the Citizen of 1789? give me the title\n",
      "\n",
      "The most relevant document in my database to the question \"the Rights of Man and of the Citizen of 1789\" is the \"Déclaration des Droits de l'Homme et du Citoyen de 1789\" (Declaration of the Rights of Man and of the Citizen of 1789).\n",
      "CPU times: user 20.1 ms, sys: 4.31 ms, total: 24.5 ms\n",
      "Wall time: 2.62 s\n"
     ]
    }
   ],
   "source": [
    "%%time\n",
    "Q = \"What is the most relevant document in your database to the question:the Rights of Man and of the Citizen of 1789? give me the title\"\n",
    "print(f\"\\n\\n{Q}\\n\")\n",
    "print(qabot.invoke(dict(query=Q))[\"result\"])"
   ]
  },
  {
   "cell_type": "code",
   "execution_count": 27,
   "metadata": {},
   "outputs": [
    {
     "name": "stdout",
     "output_type": "stream",
     "text": [
      "\n",
      "\n",
      "Summarize this document(title:Editorial: Charles Darwin, Jean-Baptiste Lamarck, and 21st centuryarguments on the fundamentals of biology) in English:\n",
      "\n",
      "This document is an editorial that discusses the arguments and relevance of Charles Darwin and Jean-Baptiste Lamarck's theories in the context of 21st-century biology. The author highlights the challenges to the gene-centric approach in evolutionary biology and calls for a more inclusive and multi-scale approach. The editorial emphasizes the need for a paradigm shift in understanding the underlying causal dynamics in living systems and evolution. The author also encourages further debate and contributions on these issues. The document provides historical background on Lamarck and Darwin's theories and challenges the notion that the Modern Synthesis completely replaced non-Darwinian theories of evolution. Overall, the editorial aims to stimulate discussion and presents a framework for a more comprehensive biological synthesis.\n",
      "CPU times: user 19.2 ms, sys: 2.98 ms, total: 22.1 ms\n",
      "Wall time: 3.88 s\n"
     ]
    }
   ],
   "source": [
    "%%time\n",
    "Q = \"Summarize this document(title:Editorial: Charles Darwin, Jean-Baptiste Lamarck, and 21st centuryarguments on the fundamentals of biology) in English:\"\n",
    "print(f\"\\n\\n{Q}\\n\")\n",
    "print(qabot.invoke(dict(query=Q))[\"result\"])"
   ]
  },
  {
   "cell_type": "code",
   "execution_count": 28,
   "metadata": {},
   "outputs": [
    {
     "name": "stdout",
     "output_type": "stream",
     "text": [
      "\n",
      "\n",
      "What are the rights and duties of the man, the citizen and the society ?\n",
      "\n",
      "According to the Declaration of the Rights of Man and of the Citizen of 1789, the rights and duties of man, citizen, and society are as follows:\n",
      "\n",
      "Rights of Man:\n",
      "1. Men are born and remain free and equal in rights. Social distinctions can only be based on common utility.\n",
      "2. The purpose of political association is to protect the natural and imprescriptible rights of man, which include liberty, property, security, and resistance to oppression.\n",
      "3. Sovereignty resides essentially in the nation, and no individual or group can exercise authority that does not come from the nation.\n",
      "4. Freedom consists of being able to do anything that does not harm others. The exercise of natural rights is limited only by the rights of others, as determined by the law.\n",
      "5. The law has the right to prohibit only actions that are harmful to society. Anything not prohibited by law cannot be prevented, and no one can be compelled to do what the law does not require.\n",
      "6. The law is the expression of the general will. All citizens have the right to participate personally or through their representatives in its formation. It must be the same for all, whether it protects or punishes. All citizens are equal in the eyes of the law and are eligible for public office based on their abilities and virtues.\n",
      "7. No one can be accused, arrested, or detained except in cases determined by law and according to the prescribed procedures. Those who solicit, expedite, execute, or enforce arbitrary orders must be punished. However, any citizen called or seized under the law must obey immediately, and resistance makes them guilty.\n",
      "8. The law should establish only strictly and obviously necessary punishments, and no one can be punished except in accordance with a law established and promulgated prior to the offense.\n",
      "9. Every person is presumed innocent until proven guilty. If it is deemed necessary to arrest someone, any unnecessary harshness that is not required to secure their person must be severely punished by law.\n",
      "10. No one should be disturbed for their opinions, even religious ones, as long as their expression does not disturb the established public order.\n",
      "11. The free communication of thoughts and opinions is one of the most precious rights of man. Therefore, every citizen has the right to speak, write, and print freely, with the responsibility for any abuse of this freedom determined by law.\n",
      "12. The guarantee of the rights of man and of the citizen requires a public force, which is instituted for the benefit of all and not for the particular advantage of those to whom it is entrusted.\n",
      "13. For the maintenance of public force and for administrative expenses, a common contribution is necessary. It must be equally distributed among all citizens according to their abilities.\n",
      "14. All citizens have the right to determine, either by themselves or through their representatives, the necessity of public contribution, to consent to it freely, to follow its use, and to determine its amount, basis, collection, and duration.\n",
      "15. Society has the right to hold any public agent accountable for their administration.\n",
      "16. Any society in which the guarantee of rights is not assured and the separation of powers is not determined has no constitution.\n",
      "17. Property being an inviolable and sacred right, no one can be deprived of it except when the public necessity, legally established, obviously requires it, and under the condition of a just and prior indemnity.\n",
      "\n",
      "Duties of the Citizen:\n",
      "The Declaration does not explicitly mention the duties of the citizen, but it emphasizes the importance of citizens' participation in the formation of the law and their responsibility to obey it.\n",
      "\n",
      "Duties of Society:\n",
      "The Declaration does not explicitly mention the duties of society, but it emphasizes the need for a public force for the benefit of all and the necessity of a common contribution for the maintenance of public force and administrative expenses.\n",
      "CPU times: user 20.3 ms, sys: 3.07 ms, total: 23.4 ms\n",
      "Wall time: 16.3 s\n"
     ]
    }
   ],
   "source": [
    "%%time\n",
    "Q = \"What are the rights and duties of the man, the citizen and the society ?\"\n",
    "print(f\"\\n\\n{Q}\\n\")\n",
    "print(qabot.invoke(dict(query=Q))[\"result\"])"
   ]
  },
  {
   "cell_type": "code",
   "execution_count": 29,
   "metadata": {},
   "outputs": [
    {
     "data": {
      "text/plain": [
       "True"
      ]
     },
     "execution_count": 29,
     "metadata": {},
     "output_type": "execute_result"
    }
   ],
   "source": [
    "table.drop() # Rem"
   ]
  }
 ],
 "metadata": {
  "kernelspec": {
   "display_name": "chatgpt",
   "language": "python",
   "name": "python3"
  },
  "language_info": {
   "codemirror_mode": {
    "name": "ipython",
    "version": 3
   },
   "file_extension": ".py",
   "mimetype": "text/x-python",
   "name": "python",
   "nbconvert_exporter": "python",
   "pygments_lexer": "ipython3",
   "version": "3.10.9"
  }
 },
 "nbformat": 4,
 "nbformat_minor": 2
}
